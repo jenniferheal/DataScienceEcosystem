{
 "cells": [
  {
   "cell_type": "markdown",
   "id": "dde9e4b3-d665-4642-a4f0-91ac70967f7e",
   "metadata": {},
   "source": [
    "# Data Science Tools and Ecosystem"
   ]
  },
  {
   "cell_type": "markdown",
   "id": "4bba9f37-dcb5-4dfc-b19a-74872571427d",
   "metadata": {},
   "source": [
    "In this notebook, Data Science Tools and Ecosystem are summarized."
   ]
  },
  {
   "cell_type": "markdown",
   "id": "942713f5-c81e-49ab-abe9-5bf0bd411654",
   "metadata": {},
   "source": [
    "**Objectives:**\n",
    "- List popular languages for Data Science.\n",
    "- Identify common libraries and tools.  \n",
    "- Perform simple calculations in Python."
   ]
  },
  {
   "cell_type": "markdown",
   "id": "ab2de1c7-6548-41fd-92a8-3a03a499b387",
   "metadata": {},
   "source": [
    "Some of the popular languages that Data Scientists use are:\n",
    "1. Python\n",
    "2. R\n",
    "3. SQL\n",
    "4. Julia\n",
    "5. Java"
   ]
  },
  {
   "cell_type": "markdown",
   "id": "b77616ca-1a51-41ee-92c0-e1e0e400c5d4",
   "metadata": {},
   "source": [
    "Some of the commonly used libraries used by Data Scientists include:\n",
    "1. Pandas\n",
    "2. NumPy\n",
    "3. Matplotlib\n",
    "4. Scikit-learn  \n",
    "5. TensorFlow  \n",
    "6. PyTorch"
   ]
  },
  {
   "cell_type": "markdown",
   "id": "00adc4c8-4c22-471d-b679-8574cc475482",
   "metadata": {},
   "source": [
    "| Data Science Tools       |\n",
    "|---------------------------|\n",
    "| Jupyter Notebook          |\n",
    "| RStudio                   |\n",
    "| Anaconda                  |"
   ]
  },
  {
   "cell_type": "markdown",
   "id": "0696106c-c2cf-4619-9fba-e39943ca9de2",
   "metadata": {},
   "source": [
    "### Below are a few examples of evaluating arithmetic expressions in Python."
   ]
  },
  {
   "cell_type": "code",
   "execution_count": 1,
   "id": "b9ac38fb-e30d-48f9-9bd5-d0d2363536e5",
   "metadata": {},
   "outputs": [
    {
     "data": {
      "text/plain": [
       "17"
      ]
     },
     "execution_count": 1,
     "metadata": {},
     "output_type": "execute_result"
    }
   ],
   "source": [
    "# This a simple arithmetic expression to mutiply then add integers\n",
    "(3*4)+5"
   ]
  },
  {
   "cell_type": "code",
   "execution_count": 3,
   "id": "68139d82-b82a-4d63-a6dd-d8a004b64a68",
   "metadata": {},
   "outputs": [
    {
     "data": {
      "text/plain": [
       "3.3333333333333335"
      ]
     },
     "execution_count": 3,
     "metadata": {},
     "output_type": "execute_result"
    }
   ],
   "source": [
    "# This will convert 200 minutes to hours by diving by 60\n",
    "hours = 200 / 60\n",
    "hours"
   ]
  },
  {
   "cell_type": "markdown",
   "id": "ec9f443c-2f70-4eaf-996f-c0862415e590",
   "metadata": {},
   "source": [
    "## Author\n",
    "Jennifer Citlali Hernández Álvarez"
   ]
  }
 ],
 "metadata": {
  "kernelspec": {
   "display_name": "Python 3 (ipykernel)",
   "language": "python",
   "name": "python3"
  },
  "language_info": {
   "codemirror_mode": {
    "name": "ipython",
    "version": 3
   },
   "file_extension": ".py",
   "mimetype": "text/x-python",
   "name": "python",
   "nbconvert_exporter": "python",
   "pygments_lexer": "ipython3",
   "version": "3.12.7"
  }
 },
 "nbformat": 4,
 "nbformat_minor": 5
}
